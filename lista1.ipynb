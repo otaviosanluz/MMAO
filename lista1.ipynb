{
 "cells": [
  {
   "cell_type": "markdown",
   "metadata": {},
   "source": [
    "# Lista 1"
   ]
  },
  {
   "cell_type": "code",
   "execution_count": 1,
   "metadata": {},
   "outputs": [],
   "source": [
    "import numpy as np"
   ]
  },
  {
   "cell_type": "markdown",
   "metadata": {},
   "source": [
    "### 1. Calcule o determinante e a matriz inversa das matrizes abaixo utilizando o teorema de Laplace."
   ]
  },
  {
   "cell_type": "code",
   "execution_count": 2,
   "metadata": {},
   "outputs": [
    {
     "data": {
      "text/plain": [
       "array([[ 2,  3, -1,  4],\n",
       "       [ 8,  1,  9,  3],\n",
       "       [ 0,  2,  1,  8],\n",
       "       [-2,  3, -1,  7]])"
      ]
     },
     "execution_count": 2,
     "metadata": {},
     "output_type": "execute_result"
    }
   ],
   "source": [
    "# Matriz A\n",
    "A = np.array([2, 3, -1, 4, 8, 1, 9, 3, 0, 2, 1, 8, -2, 3, -1, 7]).reshape(4,4)\n",
    "A"
   ]
  },
  {
   "cell_type": "code",
   "execution_count": 3,
   "metadata": {},
   "outputs": [
    {
     "data": {
      "text/plain": [
       "array([[1, 2, 1],\n",
       "       [2, 1, 2],\n",
       "       [1, 2, 1]])"
      ]
     },
     "execution_count": 3,
     "metadata": {},
     "output_type": "execute_result"
    }
   ],
   "source": [
    "# Matriz B\n",
    "B = np.array([1, 2, 1, 2, 1, 2, 1, 2, 1]).reshape(3,3)\n",
    "B"
   ]
  },
  {
   "cell_type": "code",
   "execution_count": 4,
   "metadata": {},
   "outputs": [
    {
     "name": "stdout",
     "output_type": "stream",
     "text": [
      "Determinante de A\n",
      "341.9999999999999\n",
      "-=-=-=-=-=-=-=-=-=-=-=-=-=-=-=-=-=-=-=-=-=-=-=-=-=-=-=-=-=-=-=-=-=-=-=-=-=-=-=-=-=-=-=-=-=-=-=-=-=-=\n",
      "A-¹\n",
      "[[ 0.26315789 -0.04385965  0.24561404 -0.4122807 ]\n",
      " [ 0.05263158  0.15789474 -0.68421053  0.68421053]\n",
      " [-0.24561404  0.15204678 -0.25146199  0.3625731 ]\n",
      " [ 0.01754386 -0.05847953  0.32748538 -0.21637427]]\n"
     ]
    }
   ],
   "source": [
    "# Determinante de A\n",
    "det_A = np.linalg.det(A)\n",
    "print('Determinante de A')\n",
    "print(det_A)\n",
    "print('-='*50)\n",
    "# Matriz Inversa\n",
    "inv_A = np.linalg.inv(A)\n",
    "print('A-¹')\n",
    "print(inv_A)"
   ]
  },
  {
   "cell_type": "code",
   "execution_count": 5,
   "metadata": {},
   "outputs": [
    {
     "name": "stdout",
     "output_type": "stream",
     "text": [
      "Determinante de B\n",
      "0.0\n"
     ]
    }
   ],
   "source": [
    "# Determinante de B\n",
    "det_B = np.linalg.det(B)\n",
    "print('Determinante de B')\n",
    "print(det_B)"
   ]
  },
  {
   "cell_type": "code",
   "execution_count": null,
   "metadata": {},
   "outputs": [],
   "source": [
    "# Matriz Inversa\n",
    "inv_B = np.linalg.inv(B) # Erro: Conjunto solução não existe"
   ]
  },
  {
   "cell_type": "markdown",
   "metadata": {},
   "source": [
    "### 2. Escreva os sistemas lineares abaixo no formato matricial e utilize o MATLAB® para obter o vetor incognita. Classifica os sistemas.\n",
    "\n",
    "##### Lembrando: Ax = b"
   ]
  },
  {
   "cell_type": "markdown",
   "metadata": {},
   "source": [
    "#### Sistema S1"
   ]
  },
  {
   "cell_type": "code",
   "execution_count": 6,
   "metadata": {},
   "outputs": [
    {
     "data": {
      "text/plain": [
       "array([[-6,  2,  0],\n",
       "       [ 1,  0,  5],\n",
       "       [ 0, -3, -5]])"
      ]
     },
     "execution_count": 6,
     "metadata": {},
     "output_type": "execute_result"
    }
   ],
   "source": [
    "# Matriz s1 (A)\n",
    "s1 = np.array([-6, 2, 0, 1, 0, 5, 0, -3, -5]).reshape(3,3)\n",
    "s1"
   ]
  },
  {
   "cell_type": "code",
   "execution_count": 7,
   "metadata": {},
   "outputs": [
    {
     "data": {
      "text/plain": [
       "array([[ 1],\n",
       "       [ 3],\n",
       "       [20]])"
      ]
     },
     "execution_count": 7,
     "metadata": {},
     "output_type": "execute_result"
    }
   ],
   "source": [
    "# Matriz b (b)\n",
    "b = np.array([1, 3, 20]).reshape(3,1)\n",
    "b"
   ]
  },
  {
   "cell_type": "code",
   "execution_count": 8,
   "metadata": {},
   "outputs": [
    {
     "data": {
      "text/plain": [
       "array([[-3.0625],\n",
       "       [-8.6875],\n",
       "       [ 1.2125]])"
      ]
     },
     "execution_count": 8,
     "metadata": {},
     "output_type": "execute_result"
    }
   ],
   "source": [
    "# Vetor incógnita (x)\n",
    "x = np.linalg.solve(s1, b)\n",
    "x"
   ]
  },
  {
   "cell_type": "markdown",
   "metadata": {},
   "source": [
    "#### Sistema S2"
   ]
  },
  {
   "cell_type": "code",
   "execution_count": 9,
   "metadata": {},
   "outputs": [
    {
     "data": {
      "text/plain": [
       "array([[1, 1, 1],\n",
       "       [2, 2, 2],\n",
       "       [0, 1, 2]])"
      ]
     },
     "execution_count": 9,
     "metadata": {},
     "output_type": "execute_result"
    }
   ],
   "source": [
    "# Matriz s2\n",
    "s2 = np.array([1, 1, 1, 2, 2, 2, 0, 1, 2]).reshape(3,3)\n",
    "s2"
   ]
  },
  {
   "cell_type": "code",
   "execution_count": 10,
   "metadata": {},
   "outputs": [
    {
     "data": {
      "text/plain": [
       "array([[10],\n",
       "       [20],\n",
       "       [ 1]])"
      ]
     },
     "execution_count": 10,
     "metadata": {},
     "output_type": "execute_result"
    }
   ],
   "source": [
    "# Matriz b2 (b)\n",
    "b2 = np.array([10, 20, 1]).reshape(3,1)\n",
    "b2"
   ]
  },
  {
   "cell_type": "code",
   "execution_count": null,
   "metadata": {},
   "outputs": [],
   "source": [
    "# Vetor incógnita (x)\n",
    "x2 = np.linalg.solve(s2, b2)\n",
    "x2\n",
    "# Erro: Sistema Impossível, pois todos os determinantes são zero"
   ]
  },
  {
   "cell_type": "markdown",
   "metadata": {},
   "source": [
    "### 3. Em um ambiente controlado, e possível determinar a distribuição de temperatura de uma superfície sabendo-se a temperatura na sua borda. T1 a T6 serao as respectivas temperaturas nos pontos 1 a 6, e seus valores correspondem a média da temperatura dos seus 4 vértices mais próximos;"
   ]
  },
  {
   "cell_type": "code",
   "execution_count": 11,
   "metadata": {},
   "outputs": [
    {
     "data": {
      "text/plain": [
       "array([[-4,  1,  0,  1,  0,  0],\n",
       "       [ 1, -4,  1,  0,  1,  0],\n",
       "       [ 0,  1, -4,  0,  0,  1],\n",
       "       [ 1,  0,  0, -4,  1,  0],\n",
       "       [ 0,  1,  0,  1, -4,  1],\n",
       "       [ 0,  0,  1,  0,  1, -4]])"
      ]
     },
     "execution_count": 11,
     "metadata": {},
     "output_type": "execute_result"
    }
   ],
   "source": [
    "# a) \n",
    "# Matriz T do sistema encontrado\n",
    "T = np.array([-4, 1, 0, 1, 0, 0, 1, -4, 1, 0, 1, 0, 0, 1, -4, 0, 0, 1, 1, 0, 0, -4, 1, 0, 0, 1, 0, 1, -4, 1, 0, 0, 1, 0, 1, -4]).reshape(6,6)\n",
    "T"
   ]
  },
  {
   "cell_type": "code",
   "execution_count": 12,
   "metadata": {},
   "outputs": [
    {
     "data": {
      "text/plain": [
       "array([[-40],\n",
       "       [-30],\n",
       "       [-50],\n",
       "       [-40],\n",
       "       [-30],\n",
       "       [-50]])"
      ]
     },
     "execution_count": 12,
     "metadata": {},
     "output_type": "execute_result"
    }
   ],
   "source": [
    "# Matriz b\n",
    "b = np.array([-40, -30, -50, -40, -30, -50]).reshape(6,1)\n",
    "b"
   ]
  },
  {
   "cell_type": "code",
   "execution_count": 13,
   "metadata": {},
   "outputs": [
    {
     "data": {
      "text/plain": [
       "array([[21.9047619 ],\n",
       "       [25.71428571],\n",
       "       [25.23809524],\n",
       "       [21.9047619 ],\n",
       "       [25.71428571],\n",
       "       [25.23809524]])"
      ]
     },
     "execution_count": 13,
     "metadata": {},
     "output_type": "execute_result"
    }
   ],
   "source": [
    "# Vetor solução\n",
    "x = np.linalg.solve(T,b)\n",
    "x"
   ]
  },
  {
   "cell_type": "markdown",
   "metadata": {},
   "source": [
    "### 4. Utilize a matriz de dados A.dat e o vetor coluna b.dat obtidas na pagina do Glover et al. (2011)."
   ]
  },
  {
   "cell_type": "code",
   "execution_count": 15,
   "metadata": {},
   "outputs": [
    {
     "data": {
      "text/plain": [
       "array([[ 1., -2.,  2., -1.,  2.,  1., -2.],\n",
       "       [ 3.,  1.,  2.,  0., -1.,  2., -3.],\n",
       "       [ 0.,  2.,  1.,  1.,  1.,  0.,  3.],\n",
       "       [ 1., -1.,  1., -1.,  1., -1.,  1.],\n",
       "       [ 3.,  0.,  1.,  1.,  1.,  2.,  0.],\n",
       "       [-3.,  2., -1.,  0.,  2.,  1.,  3.],\n",
       "       [-2.,  1.,  2., -1.,  2., -2.,  1.]])"
      ]
     },
     "execution_count": 15,
     "metadata": {},
     "output_type": "execute_result"
    }
   ],
   "source": [
    "# Carregando o arquivo A.dat\n",
    "matrix_A = np.loadtxt('A.dat')\n",
    "matrix_A"
   ]
  },
  {
   "cell_type": "code",
   "execution_count": 17,
   "metadata": {},
   "outputs": [
    {
     "data": {
      "text/plain": [
       "array([[-1.],\n",
       "       [ 5.],\n",
       "       [19.],\n",
       "       [ 2.],\n",
       "       [13.],\n",
       "       [11.],\n",
       "       [ 5.]])"
      ]
     },
     "execution_count": 17,
     "metadata": {},
     "output_type": "execute_result"
    }
   ],
   "source": [
    "# Carregando o arquivo b.dat\n",
    "matrix_b = np.loadtxt('b.dat')\n",
    "matrix_b = matrix_b.reshape(7,1)\n",
    "matrix_b"
   ]
  },
  {
   "cell_type": "code",
   "execution_count": 18,
   "metadata": {},
   "outputs": [
    {
     "data": {
      "text/plain": [
       "array([[1.],\n",
       "       [2.],\n",
       "       [3.],\n",
       "       [2.],\n",
       "       [1.],\n",
       "       [2.],\n",
       "       [3.]])"
      ]
     },
     "execution_count": 18,
     "metadata": {},
     "output_type": "execute_result"
    }
   ],
   "source": [
    "# Valores de x (vetor incógnita)\n",
    "x = np.linalg.solve(matrix_A, matrix_b)\n",
    "x"
   ]
  },
  {
   "cell_type": "code",
   "execution_count": 19,
   "metadata": {},
   "outputs": [
    {
     "data": {
      "text/plain": [
       "549.0000000000009"
      ]
     },
     "execution_count": 19,
     "metadata": {},
     "output_type": "execute_result"
    }
   ],
   "source": [
    "# Determinante de matrix_A\n",
    "det_A = np.linalg.det(matrix_A)\n",
    "det_A"
   ]
  },
  {
   "cell_type": "code",
   "execution_count": 20,
   "metadata": {},
   "outputs": [
    {
     "data": {
      "text/plain": [
       "7"
      ]
     },
     "execution_count": 20,
     "metadata": {},
     "output_type": "execute_result"
    }
   ],
   "source": [
    "# Posto de A\n",
    "rank_A = np.linalg.matrix_rank(matrix_A)\n",
    "rank_A"
   ]
  },
  {
   "cell_type": "markdown",
   "metadata": {},
   "source": [
    "### 5. Baixe a matriz A1.dat e b1.dat."
   ]
  },
  {
   "cell_type": "code",
   "execution_count": 32,
   "metadata": {},
   "outputs": [
    {
     "data": {
      "text/plain": [
       "array([[ 1., -2.,  2., -1.,  2.,  1., -2.],\n",
       "       [ 3.,  1.,  2.,  0., -1.,  2., -3.],\n",
       "       [ 0.,  3.,  1.,  0.,  1.,  3.,  0.],\n",
       "       [ 1., -1.,  1., -1.,  1., -1.,  1.],\n",
       "       [ 3.,  0.,  1.,  1.,  1.,  2.,  0.],\n",
       "       [-3.,  2., -1.,  0.,  2.,  1.,  3.],\n",
       "       [-2.,  1.,  2., -1.,  2., -2.,  1.]])"
      ]
     },
     "execution_count": 32,
     "metadata": {},
     "output_type": "execute_result"
    }
   ],
   "source": [
    "# Carregando arquivo A1.dat\n",
    "A1 = np.loadtxt('A1.dat')\n",
    "A1"
   ]
  },
  {
   "cell_type": "code",
   "execution_count": 33,
   "metadata": {},
   "outputs": [
    {
     "data": {
      "text/plain": [
       "array([[-1.],\n",
       "       [ 5.],\n",
       "       [16.],\n",
       "       [ 2.],\n",
       "       [13.],\n",
       "       [11.],\n",
       "       [ 5.]])"
      ]
     },
     "execution_count": 33,
     "metadata": {},
     "output_type": "execute_result"
    }
   ],
   "source": [
    "# Carregando arquivo b1.dat\n",
    "b1 = np.loadtxt('b1.dat')\n",
    "b1 = b1.reshape(7,1)\n",
    "b1"
   ]
  },
  {
   "cell_type": "code",
   "execution_count": 34,
   "metadata": {},
   "outputs": [
    {
     "data": {
      "text/plain": [
       "0.0"
      ]
     },
     "execution_count": 34,
     "metadata": {},
     "output_type": "execute_result"
    }
   ],
   "source": [
    "# Determinante de A1\n",
    "det_A1 = np.linalg.det(A1)\n",
    "det_A1"
   ]
  },
  {
   "cell_type": "code",
   "execution_count": 35,
   "metadata": {},
   "outputs": [
    {
     "data": {
      "text/plain": [
       "6"
      ]
     },
     "execution_count": 35,
     "metadata": {},
     "output_type": "execute_result"
    }
   ],
   "source": [
    "# Posto de A1\n",
    "rank_A1 = np.linalg.matrix_rank(A1)\n",
    "rank_A1"
   ]
  },
  {
   "cell_type": "code",
   "execution_count": 85,
   "metadata": {},
   "outputs": [
    {
     "data": {
      "text/plain": [
       "(7, 7)"
      ]
     },
     "execution_count": 85,
     "metadata": {},
     "output_type": "execute_result"
    }
   ],
   "source": [
    "# Dimensão de A1\n",
    "np.shape(A1)"
   ]
  },
  {
   "cell_type": "code",
   "execution_count": 29,
   "metadata": {},
   "outputs": [
    {
     "ename": "LinAlgError",
     "evalue": "Singular matrix",
     "output_type": "error",
     "traceback": [
      "\u001b[1;31m---------------------------------------------------------------------------\u001b[0m",
      "\u001b[1;31mLinAlgError\u001b[0m                               Traceback (most recent call last)",
      "\u001b[1;32m<ipython-input-29-9f95dee938c0>\u001b[0m in \u001b[0;36m<module>\u001b[1;34m\u001b[0m\n\u001b[0;32m      1\u001b[0m \u001b[1;31m# Valores de x (vetor incógnita)\u001b[0m\u001b[1;33m\u001b[0m\u001b[1;33m\u001b[0m\u001b[1;33m\u001b[0m\u001b[0m\n\u001b[1;32m----> 2\u001b[1;33m \u001b[0mx\u001b[0m \u001b[1;33m=\u001b[0m \u001b[0mnp\u001b[0m\u001b[1;33m.\u001b[0m\u001b[0mlinalg\u001b[0m\u001b[1;33m.\u001b[0m\u001b[0msolve\u001b[0m\u001b[1;33m(\u001b[0m\u001b[0mA1\u001b[0m\u001b[1;33m,\u001b[0m\u001b[0mb1\u001b[0m\u001b[1;33m)\u001b[0m\u001b[1;33m\u001b[0m\u001b[1;33m\u001b[0m\u001b[0m\n\u001b[0m\u001b[0;32m      3\u001b[0m \u001b[0mx\u001b[0m\u001b[1;33m\u001b[0m\u001b[1;33m\u001b[0m\u001b[0m\n",
      "\u001b[1;32m<__array_function__ internals>\u001b[0m in \u001b[0;36msolve\u001b[1;34m(*args, **kwargs)\u001b[0m\n",
      "\u001b[1;32m~\\anaconda3\\lib\\site-packages\\numpy\\linalg\\linalg.py\u001b[0m in \u001b[0;36msolve\u001b[1;34m(a, b)\u001b[0m\n\u001b[0;32m    397\u001b[0m     \u001b[0msignature\u001b[0m \u001b[1;33m=\u001b[0m \u001b[1;34m'DD->D'\u001b[0m \u001b[1;32mif\u001b[0m \u001b[0misComplexType\u001b[0m\u001b[1;33m(\u001b[0m\u001b[0mt\u001b[0m\u001b[1;33m)\u001b[0m \u001b[1;32melse\u001b[0m \u001b[1;34m'dd->d'\u001b[0m\u001b[1;33m\u001b[0m\u001b[1;33m\u001b[0m\u001b[0m\n\u001b[0;32m    398\u001b[0m     \u001b[0mextobj\u001b[0m \u001b[1;33m=\u001b[0m \u001b[0mget_linalg_error_extobj\u001b[0m\u001b[1;33m(\u001b[0m\u001b[0m_raise_linalgerror_singular\u001b[0m\u001b[1;33m)\u001b[0m\u001b[1;33m\u001b[0m\u001b[1;33m\u001b[0m\u001b[0m\n\u001b[1;32m--> 399\u001b[1;33m     \u001b[0mr\u001b[0m \u001b[1;33m=\u001b[0m \u001b[0mgufunc\u001b[0m\u001b[1;33m(\u001b[0m\u001b[0ma\u001b[0m\u001b[1;33m,\u001b[0m \u001b[0mb\u001b[0m\u001b[1;33m,\u001b[0m \u001b[0msignature\u001b[0m\u001b[1;33m=\u001b[0m\u001b[0msignature\u001b[0m\u001b[1;33m,\u001b[0m \u001b[0mextobj\u001b[0m\u001b[1;33m=\u001b[0m\u001b[0mextobj\u001b[0m\u001b[1;33m)\u001b[0m\u001b[1;33m\u001b[0m\u001b[1;33m\u001b[0m\u001b[0m\n\u001b[0m\u001b[0;32m    400\u001b[0m \u001b[1;33m\u001b[0m\u001b[0m\n\u001b[0;32m    401\u001b[0m     \u001b[1;32mreturn\u001b[0m \u001b[0mwrap\u001b[0m\u001b[1;33m(\u001b[0m\u001b[0mr\u001b[0m\u001b[1;33m.\u001b[0m\u001b[0mastype\u001b[0m\u001b[1;33m(\u001b[0m\u001b[0mresult_t\u001b[0m\u001b[1;33m,\u001b[0m \u001b[0mcopy\u001b[0m\u001b[1;33m=\u001b[0m\u001b[1;32mFalse\u001b[0m\u001b[1;33m)\u001b[0m\u001b[1;33m)\u001b[0m\u001b[1;33m\u001b[0m\u001b[1;33m\u001b[0m\u001b[0m\n",
      "\u001b[1;32m~\\anaconda3\\lib\\site-packages\\numpy\\linalg\\linalg.py\u001b[0m in \u001b[0;36m_raise_linalgerror_singular\u001b[1;34m(err, flag)\u001b[0m\n\u001b[0;32m     95\u001b[0m \u001b[1;33m\u001b[0m\u001b[0m\n\u001b[0;32m     96\u001b[0m \u001b[1;32mdef\u001b[0m \u001b[0m_raise_linalgerror_singular\u001b[0m\u001b[1;33m(\u001b[0m\u001b[0merr\u001b[0m\u001b[1;33m,\u001b[0m \u001b[0mflag\u001b[0m\u001b[1;33m)\u001b[0m\u001b[1;33m:\u001b[0m\u001b[1;33m\u001b[0m\u001b[1;33m\u001b[0m\u001b[0m\n\u001b[1;32m---> 97\u001b[1;33m     \u001b[1;32mraise\u001b[0m \u001b[0mLinAlgError\u001b[0m\u001b[1;33m(\u001b[0m\u001b[1;34m\"Singular matrix\"\u001b[0m\u001b[1;33m)\u001b[0m\u001b[1;33m\u001b[0m\u001b[1;33m\u001b[0m\u001b[0m\n\u001b[0m\u001b[0;32m     98\u001b[0m \u001b[1;33m\u001b[0m\u001b[0m\n\u001b[0;32m     99\u001b[0m \u001b[1;32mdef\u001b[0m \u001b[0m_raise_linalgerror_nonposdef\u001b[0m\u001b[1;33m(\u001b[0m\u001b[0merr\u001b[0m\u001b[1;33m,\u001b[0m \u001b[0mflag\u001b[0m\u001b[1;33m)\u001b[0m\u001b[1;33m:\u001b[0m\u001b[1;33m\u001b[0m\u001b[1;33m\u001b[0m\u001b[0m\n",
      "\u001b[1;31mLinAlgError\u001b[0m: Singular matrix"
     ]
    }
   ],
   "source": [
    "# Valores de x (vetor incógnita)\n",
    "x = np.linalg.solve(A1,b1)\n",
    "# Erro: posto e dimensão da matriz são diferentes"
   ]
  },
  {
   "cell_type": "code",
   "execution_count": 79,
   "metadata": {},
   "outputs": [
    {
     "name": "stdout",
     "output_type": "stream",
     "text": [
      "(7, 7)\n",
      "(7,)\n",
      "(7, 7)\n"
     ]
    }
   ],
   "source": [
    "# Decomposição de valor singular\n",
    "u, s, v = np.linalg.svd(A1)\n",
    "print(np.shape(u))\n",
    "print(np.shape(s))\n",
    "print(np.shape(v))"
   ]
  },
  {
   "cell_type": "code",
   "execution_count": 80,
   "metadata": {},
   "outputs": [
    {
     "name": "stdout",
     "output_type": "stream",
     "text": [
      "[8.00122471e+00 5.81946470e+00 4.81894148e+00 3.09496176e+00\n",
      " 2.33690910e+00 9.23094968e-01 1.18894305e-16]\n"
     ]
    }
   ],
   "source": [
    "print(s)"
   ]
  },
  {
   "cell_type": "code",
   "execution_count": 81,
   "metadata": {},
   "outputs": [
    {
     "name": "stdout",
     "output_type": "stream",
     "text": [
      "(7, 7)\n",
      "[[8.00122471e+00 0.00000000e+00 0.00000000e+00 0.00000000e+00\n",
      "  0.00000000e+00 0.00000000e+00 0.00000000e+00]\n",
      " [0.00000000e+00 5.81946470e+00 0.00000000e+00 0.00000000e+00\n",
      "  0.00000000e+00 0.00000000e+00 0.00000000e+00]\n",
      " [0.00000000e+00 0.00000000e+00 4.81894148e+00 0.00000000e+00\n",
      "  0.00000000e+00 0.00000000e+00 0.00000000e+00]\n",
      " [0.00000000e+00 0.00000000e+00 0.00000000e+00 3.09496176e+00\n",
      "  0.00000000e+00 0.00000000e+00 0.00000000e+00]\n",
      " [0.00000000e+00 0.00000000e+00 0.00000000e+00 0.00000000e+00\n",
      "  2.33690910e+00 0.00000000e+00 0.00000000e+00]\n",
      " [0.00000000e+00 0.00000000e+00 0.00000000e+00 0.00000000e+00\n",
      "  0.00000000e+00 9.23094968e-01 0.00000000e+00]\n",
      " [0.00000000e+00 0.00000000e+00 0.00000000e+00 0.00000000e+00\n",
      "  0.00000000e+00 0.00000000e+00 1.18894305e-16]]\n"
     ]
    }
   ],
   "source": [
    "# Diagonal de s\n",
    "S = np.diag(s)\n",
    "print(np.shape(S))\n",
    "print(S)"
   ]
  },
  {
   "cell_type": "code",
   "execution_count": 82,
   "metadata": {},
   "outputs": [
    {
     "data": {
      "text/plain": [
       "array([[ 1.00000000e+00, -2.00000000e+00,  2.00000000e+00,\n",
       "        -1.00000000e+00,  2.00000000e+00,  1.00000000e+00,\n",
       "        -2.00000000e+00],\n",
       "       [ 3.00000000e+00,  1.00000000e+00,  2.00000000e+00,\n",
       "         2.32752385e-16, -1.00000000e+00,  2.00000000e+00,\n",
       "        -3.00000000e+00],\n",
       "       [ 4.34723192e-16,  3.00000000e+00,  1.00000000e+00,\n",
       "         3.46533118e-16,  1.00000000e+00,  3.00000000e+00,\n",
       "         9.38137417e-16],\n",
       "       [ 1.00000000e+00, -1.00000000e+00,  1.00000000e+00,\n",
       "        -1.00000000e+00,  1.00000000e+00, -1.00000000e+00,\n",
       "         1.00000000e+00],\n",
       "       [ 3.00000000e+00,  3.50004951e-15,  1.00000000e+00,\n",
       "         1.00000000e+00,  1.00000000e+00,  2.00000000e+00,\n",
       "         1.49749334e-15],\n",
       "       [-3.00000000e+00,  2.00000000e+00, -1.00000000e+00,\n",
       "        -1.78068448e-17,  2.00000000e+00,  1.00000000e+00,\n",
       "         3.00000000e+00],\n",
       "       [-2.00000000e+00,  1.00000000e+00,  2.00000000e+00,\n",
       "        -1.00000000e+00,  2.00000000e+00, -2.00000000e+00,\n",
       "         1.00000000e+00]])"
      ]
     },
     "execution_count": 82,
     "metadata": {},
     "output_type": "execute_result"
    }
   ],
   "source": [
    "# Matriz x_A1\n",
    "x_A1 = u @ S @ v\n",
    "x_A1"
   ]
  },
  {
   "cell_type": "code",
   "execution_count": 83,
   "metadata": {},
   "outputs": [
    {
     "name": "stdout",
     "output_type": "stream",
     "text": [
      "1.5787003759847933 1.5787003759847935 1.2784965753809472e-15\n",
      "Os valores de A1 e x_A1 são próximos? True\n"
     ]
    }
   ],
   "source": [
    "# Comparando as matrizes A1 e x_A1\n",
    "print(np.std(A1), np.std(x_A1), np.std(A1 - x_A1))\n",
    "print('Os valores de A1 e x_A1 são próximos?', np.isclose(A1, x_A1).all())"
   ]
  },
  {
   "cell_type": "code",
   "execution_count": 84,
   "metadata": {},
   "outputs": [
    {
     "data": {
      "text/plain": [
       "array([[-0.97173391],\n",
       "       [-0.25341019],\n",
       "       [ 6.89652178],\n",
       "       [ 3.19712416],\n",
       "       [-2.26275016],\n",
       "       [ 4.04215298],\n",
       "       [ 5.32382925]])"
      ]
     },
     "execution_count": 84,
     "metadata": {},
     "output_type": "execute_result"
    }
   ],
   "source": [
    "# Encontrando os valores de x\n",
    "x_svd = np.linalg.solve(x_A1,b1)\n",
    "x_svd"
   ]
  }
 ],
 "metadata": {
  "kernelspec": {
   "display_name": "Python 3",
   "language": "python",
   "name": "python3"
  },
  "language_info": {
   "codemirror_mode": {
    "name": "ipython",
    "version": 3
   },
   "file_extension": ".py",
   "mimetype": "text/x-python",
   "name": "python",
   "nbconvert_exporter": "python",
   "pygments_lexer": "ipython3",
   "version": "3.7.6"
  }
 },
 "nbformat": 4,
 "nbformat_minor": 4
}
