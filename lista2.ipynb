{
 "cells": [
  {
   "cell_type": "markdown",
   "metadata": {},
   "source": [
    "# Lista 2"
   ]
  },
  {
   "cell_type": "code",
   "execution_count": 1,
   "metadata": {},
   "outputs": [],
   "source": [
    "# Importando as bibliotecas\n",
    "import numpy as np\n",
    "import scipy.stats\n",
    "import matplotlib.pyplot as plt"
   ]
  },
  {
   "cell_type": "markdown",
   "metadata": {},
   "source": [
    "### 1. Considere o conjunto de dados abaixo e calcule a média, a mediana, a moda, a variância, o desvio- padrão e o coeficiente de variacão. Os dados abaixo correspondem a um vetor único."
   ]
  },
  {
   "cell_type": "code",
   "execution_count": 2,
   "metadata": {},
   "outputs": [
    {
     "data": {
      "text/plain": [
       "array([0.9 , 1.42, 1.3 , 1.55, 1.63, 1.32, 1.35, 1.47, 1.95, 1.66, 1.96,\n",
       "       1.47, 1.92, 1.35, 1.05, 1.85, 1.74, 1.65, 1.78, 1.71, 2.29, 1.82,\n",
       "       2.06, 2.14, 1.27])"
      ]
     },
     "execution_count": 2,
     "metadata": {},
     "output_type": "execute_result"
    }
   ],
   "source": [
    "# Dataset\n",
    "x = np.array([0.90, 1.42, 1.30, 1.55, 1.63, 1.32, 1.35, 1.47, 1.95, 1.66, 1.96, 1.47, 1.92, 1.35, 1.05,\n",
    "1.85, 1.74, 1.65, 1.78, 1.71,\n",
    "2.29, 1.82, 2.06, 2.14, 1.27])\n",
    "x"
   ]
  },
  {
   "cell_type": "code",
   "execution_count": 3,
   "metadata": {},
   "outputs": [
    {
     "data": {
      "text/plain": [
       "array([0.9 , 1.05, 1.27, 1.3 , 1.32, 1.35, 1.35, 1.42, 1.47, 1.47, 1.55,\n",
       "       1.63, 1.65, 1.66, 1.71, 1.74, 1.78, 1.82, 1.85, 1.92, 1.95, 1.96,\n",
       "       2.06, 2.14, 2.29])"
      ]
     },
     "execution_count": 3,
     "metadata": {},
     "output_type": "execute_result"
    }
   ],
   "source": [
    "# Dataset em ordem crescente\n",
    "x_crescente = np.sort(x)\n",
    "x_crescente"
   ]
  },
  {
   "cell_type": "code",
   "execution_count": 4,
   "metadata": {},
   "outputs": [
    {
     "data": {
      "text/plain": [
       "1.6244000000000003"
      ]
     },
     "execution_count": 4,
     "metadata": {},
     "output_type": "execute_result"
    }
   ],
   "source": [
    "# Média\n",
    "mean = np.mean(x)\n",
    "mean"
   ]
  },
  {
   "cell_type": "code",
   "execution_count": 5,
   "metadata": {},
   "outputs": [
    {
     "data": {
      "text/plain": [
       "0.3325306602405258"
      ]
     },
     "execution_count": 5,
     "metadata": {},
     "output_type": "execute_result"
    }
   ],
   "source": [
    "# Desvio padrão\n",
    "std = np.std(x)\n",
    "std"
   ]
  },
  {
   "cell_type": "code",
   "execution_count": 6,
   "metadata": {},
   "outputs": [
    {
     "data": {
      "text/plain": [
       "1.65"
      ]
     },
     "execution_count": 6,
     "metadata": {},
     "output_type": "execute_result"
    }
   ],
   "source": [
    "# Mediana\n",
    "median = np.median(x)\n",
    "median"
   ]
  },
  {
   "cell_type": "code",
   "execution_count": 7,
   "metadata": {},
   "outputs": [
    {
     "name": "stdout",
     "output_type": "stream",
     "text": [
      "ModeResult(mode=array([1.35]), count=array([2]))\n"
     ]
    },
    {
     "data": {
      "text/plain": [
       "1.35"
      ]
     },
     "execution_count": 7,
     "metadata": {},
     "output_type": "execute_result"
    }
   ],
   "source": [
    "# Moda\n",
    "mode = scipy.stats.mode(x)\n",
    "print(mode)\n",
    "moda = 1.35\n",
    "moda"
   ]
  },
  {
   "cell_type": "code",
   "execution_count": 8,
   "metadata": {},
   "outputs": [
    {
     "data": {
      "text/plain": [
       "0.11057663999999999"
      ]
     },
     "execution_count": 8,
     "metadata": {},
     "output_type": "execute_result"
    }
   ],
   "source": [
    "# Variância\n",
    "variance = np.var(x)\n",
    "variance"
   ]
  },
  {
   "cell_type": "code",
   "execution_count": 9,
   "metadata": {},
   "outputs": [
    {
     "data": {
      "text/plain": [
       "20.47098376265241"
      ]
     },
     "execution_count": 9,
     "metadata": {},
     "output_type": "execute_result"
    }
   ],
   "source": [
    "# Coeficiente de Variação\n",
    "# cv = (std / mean) * 100\n",
    "cv = (np.std(x) / np.mean(x)) * 100\n",
    "cv"
   ]
  },
  {
   "cell_type": "markdown",
   "metadata": {},
   "source": [
    "### 2. Construa o histograma dos dados acima usando o intervalo de 0.8 a 2.4 em bins (incrementos) de 0.2 e plote a curva normal correspondente aos dados."
   ]
  },
  {
   "cell_type": "code",
   "execution_count": 10,
   "metadata": {},
   "outputs": [
    {
     "data": {
      "image/png": "[encoded data removed]",
      "text/plain": [
       "<Figure size 432x288 with 1 Axes>"
      ]
     },
     "metadata": {
      "needs_background": "light"
     },
     "output_type": "display_data"
    }
   ],
   "source": [
    "# Histograma\n",
    "plt.hist(x, bins = 9)\n",
    "plt.show()"
   ]
  },
  {
   "cell_type": "code",
   "execution_count": 11,
   "metadata": {},
   "outputs": [
    {
     "data": {
      "text/plain": [
       "array([0.11183528, 0.99319211, 0.74545286, 1.17006015, 1.19954567,\n",
       "       0.78907189, 0.85352353, 1.07711809, 0.7428283 , 1.19286025,\n",
       "       0.72094807, 1.07711809, 0.80813755, 0.85352353, 0.26987382,\n",
       "       0.95308475, 1.1293688 , 1.19616584, 1.0753078 , 1.16061749,\n",
       "       0.16183847, 1.00912679, 0.50869555, 0.36059756, 0.67987636])"
      ]
     },
     "execution_count": 11,
     "metadata": {},
     "output_type": "execute_result"
    }
   ],
   "source": [
    "# Função densidade de probabilidade - Curva Gaussiana\n",
    "x_pdf = scipy.stats.norm.pdf(x, mean, std)\n",
    "x_pdf"
   ]
  },
  {
   "cell_type": "code",
   "execution_count": 12,
   "metadata": {},
   "outputs": [
    {
     "data": {
      "image/png": "[encoded data removed]",
      "text/plain": [
       "<Figure size 432x288 with 1 Axes>"
      ]
     },
     "metadata": {
      "needs_background": "light"
     },
     "output_type": "display_data"
    }
   ],
   "source": [
    "# Curva normal\n",
    "plt.plot(x, x_pdf)\n",
    "plt.show()"
   ]
  },
  {
   "cell_type": "code",
   "execution_count": 13,
   "metadata": {},
   "outputs": [
    {
     "data": {
      "text/plain": [
       "array([0.11183528, 0.26987382, 0.67987636, 0.74545286, 0.78907189,\n",
       "       0.85352353, 0.85352353, 0.99319211, 1.07711809, 1.07711809,\n",
       "       1.17006015, 1.19954567, 1.19616584, 1.19286025, 1.16061749,\n",
       "       1.1293688 , 1.0753078 , 1.00912679, 0.95308475, 0.80813755,\n",
       "       0.7428283 , 0.72094807, 0.50869555, 0.36059756, 0.16183847])"
      ]
     },
     "execution_count": 13,
     "metadata": {},
     "output_type": "execute_result"
    }
   ],
   "source": [
    "# Função densidade de probabilidade - Curva Gaussiana (valores em ordem crescente)\n",
    "x_pdf2 = scipy.stats.norm.pdf(x_crescente, mean, std)\n",
    "x_pdf2"
   ]
  },
  {
   "cell_type": "code",
   "execution_count": 14,
   "metadata": {},
   "outputs": [
    {
     "data": {
      "image/png": "[encoded data removed]",
      "text/plain": [
       "<Figure size 432x288 with 1 Axes>"
      ]
     },
     "metadata": {
      "needs_background": "light"
     },
     "output_type": "display_data"
    }
   ],
   "source": [
    "# Curva normal \n",
    "plt.plot(x_crescente, x_pdf2)\n",
    "plt.show()"
   ]
  },
  {
   "cell_type": "markdown",
   "metadata": {},
   "source": [
    "### 3.Considerando que o conjunto de dados abaixo e normalmente distribuído, determine o intervalo que engloba aproximadamente 68% dos valores obtidos. Os dados abaixo correspondem a um vetor único."
   ]
  },
  {
   "cell_type": "code",
   "execution_count": 15,
   "metadata": {},
   "outputs": [],
   "source": [
    "dados = np.array([29.65, 28.55, 28.65, 30.15, 29.35, 29.75, 29.25,\n",
    "30.65, 28.15, 29.85, 29.05, 30.25, 30.85, 28.75,\n",
    "29.65, 30.45, 29.15, 30.45, 33.65, 29.35, 29.75,\n",
    "31.25, 29.45, 30.15, 29.65, 30.55, 29.65, 29.25])"
   ]
  },
  {
   "cell_type": "code",
   "execution_count": 16,
   "metadata": {},
   "outputs": [
    {
     "data": {
      "text/plain": [
       "29.832142857142852"
      ]
     },
     "execution_count": 16,
     "metadata": {},
     "output_type": "execute_result"
    }
   ],
   "source": [
    "mean_dados = np.mean(dados)\n",
    "mean_dados"
   ]
  },
  {
   "cell_type": "code",
   "execution_count": 17,
   "metadata": {},
   "outputs": [
    {
     "data": {
      "text/plain": [
       "1.0264549156575513"
      ]
     },
     "execution_count": 17,
     "metadata": {},
     "output_type": "execute_result"
    }
   ],
   "source": [
    "std_dados = np.std(dados)\n",
    "std_dados"
   ]
  },
  {
   "cell_type": "code",
   "execution_count": 18,
   "metadata": {},
   "outputs": [
    {
     "name": "stdout",
     "output_type": "stream",
     "text": [
      "Intervalo 68% dos dados:(28.81 <= z <= 30.86)\n"
     ]
    }
   ],
   "source": [
    "# 68% dos dados obtidos = mean - std ou mean + std (slides aula 4)\n",
    "a = (mean_dados + std_dados).round(2)\n",
    "b = (mean_dados - std_dados).round(2)\n",
    "print(f'Intervalo 68% dos dados:({b} <= z <= {a})')"
   ]
  },
  {
   "cell_type": "code",
   "execution_count": 19,
   "metadata": {},
   "outputs": [
    {
     "data": {
      "image/png": "[encoded data removed]",
      "text/plain": [
       "<Figure size 432x288 with 1 Axes>"
      ]
     },
     "metadata": {
      "needs_background": "light"
     },
     "output_type": "display_data"
    }
   ],
   "source": [
    "plt.hist(dados)\n",
    "plt.show()"
   ]
  },
  {
   "cell_type": "markdown",
   "metadata": {},
   "source": [
    "### 5. Obtenha a reta que melhor se ajusta ao conjunto de dados abaixo utilizando o metodo dos mínimos quadrados. Faça um plote com os dados e a reta ajustada."
   ]
  },
  {
   "cell_type": "code",
   "execution_count": 20,
   "metadata": {},
   "outputs": [],
   "source": [
    "# Variável preditora\n",
    "x = np.array([2, 4, 6, 7, 10, 11, 14, 17, 20])"
   ]
  },
  {
   "cell_type": "code",
   "execution_count": 21,
   "metadata": {},
   "outputs": [],
   "source": [
    "# Variável alvo\n",
    "y = np.array([4, 5, 6, 5, 8, 8, 6, 9, 12])"
   ]
  },
  {
   "cell_type": "code",
   "execution_count": 22,
   "metadata": {},
   "outputs": [
    {
     "data": {
      "image/png": "[encoded data removed]",
      "text/plain": [
       "<Figure size 432x288 with 1 Axes>"
      ]
     },
     "metadata": {
      "needs_background": "light"
     },
     "output_type": "display_data"
    }
   ],
   "source": [
    "# Scatter plot\n",
    "plt.scatter(x, y)\n",
    "plt.xlabel('X')\n",
    "plt.ylabel('Y')\n",
    "plt.title('Relação entre X e Y')\n",
    "plt.show()"
   ]
  },
  {
   "cell_type": "code",
   "execution_count": 23,
   "metadata": {},
   "outputs": [
    {
     "data": {
      "text/plain": [
       "array([0.36783804, 3.28074866])"
      ]
     },
     "execution_count": 23,
     "metadata": {},
     "output_type": "execute_result"
    }
   ],
   "source": [
    "# Método dos mínimos quadrados\n",
    "polyfit = np.polyfit(x, y, 1)\n",
    "polyfit"
   ]
  },
  {
   "cell_type": "code",
   "execution_count": 24,
   "metadata": {},
   "outputs": [
    {
     "data": {
      "text/plain": [
       "0.36783804430863254"
      ]
     },
     "execution_count": 24,
     "metadata": {},
     "output_type": "execute_result"
    }
   ],
   "source": [
    "# Coeficiente angular m\n",
    "m = polyfit[0]\n",
    "m"
   ]
  },
  {
   "cell_type": "code",
   "execution_count": 25,
   "metadata": {},
   "outputs": [
    {
     "data": {
      "text/plain": [
       "3.2807486631016034"
      ]
     },
     "execution_count": 25,
     "metadata": {},
     "output_type": "execute_result"
    }
   ],
   "source": [
    "# Coeficiente linear c\n",
    "c = polyfit[1]\n",
    "c"
   ]
  },
  {
   "cell_type": "code",
   "execution_count": 26,
   "metadata": {},
   "outputs": [
    {
     "data": {
      "text/plain": [
       "array([ 4.01642475,  4.75210084,  5.48777693,  5.85561497,  6.95912911,\n",
       "        7.32696715,  8.43048128,  9.53399542, 10.63750955])"
      ]
     },
     "execution_count": 26,
     "metadata": {},
     "output_type": "execute_result"
    }
   ],
   "source": [
    "# Reta\n",
    "reta = (m*x) + c\n",
    "reta"
   ]
  },
  {
   "cell_type": "code",
   "execution_count": 27,
   "metadata": {},
   "outputs": [
    {
     "data": {
      "image/png": "[encoded data removed]",
      "text/plain": [
       "<Figure size 432x288 with 1 Axes>"
      ]
     },
     "metadata": {
      "needs_background": "light"
     },
     "output_type": "display_data"
    }
   ],
   "source": [
    "# Reta ajustada no gráfico\n",
    "plt.scatter(x,y)\n",
    "plt.plot(x, reta, label = 'Regressão Linear', color = 'red')\n",
    "plt.xlabel('X')\n",
    "plt.ylabel('Y')\n",
    "plt.show()"
   ]
  }
 ],
 "metadata": {
  "kernelspec": {
   "display_name": "Python 3",
   "language": "python",
   "name": "python3"
  },
  "language_info": {
   "codemirror_mode": {
    "name": "ipython",
    "version": 3
   },
   "file_extension": ".py",
   "mimetype": "text/x-python",
   "name": "python",
   "nbconvert_exporter": "python",
   "pygments_lexer": "ipython3",
   "version": "3.7.6"
  }
 },
 "nbformat": 4,
 "nbformat_minor": 4
}
