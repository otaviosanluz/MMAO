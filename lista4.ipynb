{
 "cells": [
  {
   "cell_type": "markdown",
   "metadata": {},
   "source": [
    "# Lista 4"
   ]
  },
  {
   "cell_type": "markdown",
   "metadata": {},
   "source": [
    "### Otavio Santos 81883"
   ]
  },
  {
   "cell_type": "code",
   "execution_count": 1,
   "metadata": {},
   "outputs": [],
   "source": [
    "# Importando as bibliotecas\n",
    "import numpy as np\n",
    "import pandas as pd\n",
    "import matplotlib.pyplot as plt\n",
    "import statsmodels.tsa.stattools as st\n",
    "%matplotlib inline"
   ]
  },
  {
   "cell_type": "markdown",
   "metadata": {},
   "source": [
    "### Exercício 1"
   ]
  },
  {
   "cell_type": "code",
   "execution_count": 2,
   "metadata": {},
   "outputs": [],
   "source": [
    "# Importando os dados\n",
    "data = np.loadtxt('woods_hole_tides_2005_05.dat')"
   ]
  },
  {
   "cell_type": "code",
   "execution_count": 3,
   "metadata": {},
   "outputs": [
    {
     "data": {
      "text/plain": [
       "(7440, 8)"
      ]
     },
     "execution_count": 3,
     "metadata": {},
     "output_type": "execute_result"
    }
   ],
   "source": [
    "# Dimensões dos dados\n",
    "data.shape"
   ]
  },
  {
   "cell_type": "code",
   "execution_count": 4,
   "metadata": {},
   "outputs": [
    {
     "data": {
      "text/html": [
       "<div>\n",
       "<style scoped>\n",
       "    .dataframe tbody tr th:only-of-type {\n",
       "        vertical-align: middle;\n",
       "    }\n",
       "\n",
       "    .dataframe tbody tr th {\n",
       "        vertical-align: top;\n",
       "    }\n",
       "\n",
       "    .dataframe thead th {\n",
       "        text-align: right;\n",
       "    }\n",
       "</style>\n",
       "<table border=\"1\" class=\"dataframe\">\n",
       "  <thead>\n",
       "    <tr style=\"text-align: right;\">\n",
       "      <th></th>\n",
       "      <th>station ID</th>\n",
       "      <th>year</th>\n",
       "      <th>month</th>\n",
       "      <th>day</th>\n",
       "      <th>hour</th>\n",
       "      <th>minute</th>\n",
       "      <th>predMLLW</th>\n",
       "      <th>verMLLW</th>\n",
       "    </tr>\n",
       "  </thead>\n",
       "  <tbody>\n",
       "    <tr>\n",
       "      <th>0</th>\n",
       "      <td>8447930.0</td>\n",
       "      <td>2005.0</td>\n",
       "      <td>5.0</td>\n",
       "      <td>1.0</td>\n",
       "      <td>0.0</td>\n",
       "      <td>0.0</td>\n",
       "      <td>0.316</td>\n",
       "      <td>0.572</td>\n",
       "    </tr>\n",
       "    <tr>\n",
       "      <th>1</th>\n",
       "      <td>8447930.0</td>\n",
       "      <td>2005.0</td>\n",
       "      <td>5.0</td>\n",
       "      <td>1.0</td>\n",
       "      <td>0.0</td>\n",
       "      <td>6.0</td>\n",
       "      <td>0.334</td>\n",
       "      <td>0.558</td>\n",
       "    </tr>\n",
       "    <tr>\n",
       "      <th>2</th>\n",
       "      <td>8447930.0</td>\n",
       "      <td>2005.0</td>\n",
       "      <td>5.0</td>\n",
       "      <td>1.0</td>\n",
       "      <td>0.0</td>\n",
       "      <td>12.0</td>\n",
       "      <td>0.353</td>\n",
       "      <td>0.570</td>\n",
       "    </tr>\n",
       "    <tr>\n",
       "      <th>3</th>\n",
       "      <td>8447930.0</td>\n",
       "      <td>2005.0</td>\n",
       "      <td>5.0</td>\n",
       "      <td>1.0</td>\n",
       "      <td>0.0</td>\n",
       "      <td>18.0</td>\n",
       "      <td>0.372</td>\n",
       "      <td>0.580</td>\n",
       "    </tr>\n",
       "    <tr>\n",
       "      <th>4</th>\n",
       "      <td>8447930.0</td>\n",
       "      <td>2005.0</td>\n",
       "      <td>5.0</td>\n",
       "      <td>1.0</td>\n",
       "      <td>0.0</td>\n",
       "      <td>24.0</td>\n",
       "      <td>0.391</td>\n",
       "      <td>0.622</td>\n",
       "    </tr>\n",
       "  </tbody>\n",
       "</table>\n",
       "</div>"
      ],
      "text/plain": [
       "   station ID    year  month  day  hour  minute  predMLLW  verMLLW\n",
       "0   8447930.0  2005.0    5.0  1.0   0.0     0.0     0.316    0.572\n",
       "1   8447930.0  2005.0    5.0  1.0   0.0     6.0     0.334    0.558\n",
       "2   8447930.0  2005.0    5.0  1.0   0.0    12.0     0.353    0.570\n",
       "3   8447930.0  2005.0    5.0  1.0   0.0    18.0     0.372    0.580\n",
       "4   8447930.0  2005.0    5.0  1.0   0.0    24.0     0.391    0.622"
      ]
     },
     "execution_count": 4,
     "metadata": {},
     "output_type": "execute_result"
    }
   ],
   "source": [
    "# Transformando em DataFrame\n",
    "col = ['station ID', 'year', 'month', 'day', 'hour', 'minute', 'predMLLW', 'verMLLW']\n",
    "df = pd.DataFrame(data, columns = col)\n",
    "df.head()"
   ]
  },
  {
   "cell_type": "code",
   "execution_count": 5,
   "metadata": {},
   "outputs": [
    {
     "data": {
      "text/plain": [
       "0      2005-05-01 00:00:00\n",
       "1      2005-05-01 00:06:00\n",
       "2      2005-05-01 00:12:00\n",
       "3      2005-05-01 00:18:00\n",
       "4      2005-05-01 00:24:00\n",
       "               ...        \n",
       "7435   2005-05-31 23:30:00\n",
       "7436   2005-05-31 23:36:00\n",
       "7437   2005-05-31 23:42:00\n",
       "7438   2005-05-31 23:48:00\n",
       "7439   2005-05-31 23:54:00\n",
       "Length: 7440, dtype: datetime64[ns]"
      ]
     },
     "execution_count": 5,
     "metadata": {},
     "output_type": "execute_result"
    }
   ],
   "source": [
    "# Ajustando a data\n",
    "date = pd.DataFrame(df[col[1:6]])\n",
    "date = pd.to_datetime(date, format='%Y-%m-%D %H:%M')"
   ]
  },
  {
   "cell_type": "code",
   "execution_count": null,
   "metadata": {},
   "outputs": [],
   "source": [
    "# Dataframe com a data ajustada\n",
    "copy = df.copy() # cópia do dataframe original\n",
    "df['Date'] = date\n",
    "del (df['year'], df['month'], df['day'], df['hour'], df['minute'])\n",
    "df.head()"
   ]
  },
  {
   "cell_type": "code",
   "execution_count": null,
   "metadata": {},
   "outputs": [],
   "source": [
    "# Série Temporal do nível da maré\n",
    "plt.figure(figsize=(10,5))\n",
    "plt.plot(df['Date'], df['verMLLW'], color='black')\n",
    "plt.xticks(rotation = 30)\n",
    "plt.title('Série Temporal do Nível da Maré', fontdict={'size':20})\n",
    "plt.xlabel('Maio 2005', fontdict={'size':15})\n",
    "plt.ylabel('Maré (m)', fontdict={'size':15})\n",
    "plt.grid(True)\n",
    "plt.show()"
   ]
  },
  {
   "cell_type": "code",
   "execution_count": null,
   "metadata": {},
   "outputs": [],
   "source": [
    "# Autocovariância\n",
    "n = len(df['verMLLW'])\n",
    "a_cov = st.acovf(df['verMLLW'], unbiased=True)\n",
    "a_cov = np.delete(a_cov, n-1) # exclui o último elemento"
   ]
  },
  {
   "cell_type": "code",
   "execution_count": null,
   "metadata": {},
   "outputs": [],
   "source": [
    "# Lag\n",
    "x = np.arange(0, n-1)/10  "
   ]
  },
  {
   "cell_type": "code",
   "execution_count": null,
   "metadata": {},
   "outputs": [],
   "source": [
    "# Plot lag total\n",
    "plt.figure(figsize=(20,10))\n",
    "plt.subplot(211)\n",
    "plt.plot(x, a_cov, color='black')\n",
    "plt.xlim(x[0], x[n-2]) # menos 2 pois existe o indice 0\n",
    "plt.xticks(x[::400])\n",
    "plt.title('Função Autocovariância \\nTotal ', fontdict={'size':20})\n",
    "plt.ylabel('Autocovariância (m²)', fontdict={'size':15})\n",
    "plt.xlabel('Lag', fontdict={'size':15})\n",
    "plt.show()"
   ]
  },
  {
   "cell_type": "code",
   "execution_count": null,
   "metadata": {},
   "outputs": [],
   "source": [
    "# Plot lag 24 horas\n",
    "plt.figure(figsize=(20,10))\n",
    "plt.subplot(223)\n",
    "plt.plot(x[:241], a_cov[:241], color='black')\n",
    "plt.xlim(x[0], x[240]) \n",
    "plt.xticks(x[:241:30])\n",
    "plt.title('0 - 24 horas ', fontdict={'size':20})\n",
    "plt.ylabel('Autocovariância (m²)', fontdict={'size':15})\n",
    "plt.xlabel('Lag', fontdict={'size':15})\n",
    "plt.show()"
   ]
  },
  {
   "cell_type": "code",
   "execution_count": null,
   "metadata": {},
   "outputs": [],
   "source": [
    "# Plot lag 150 horas\n",
    "plt.figure(figsize=(20,10))\n",
    "plt.subplot(224)\n",
    "plt.plot(x[:1501], a_cov[:1501], color='black')\n",
    "plt.xlim(x[0], x[1500]) \n",
    "plt.xticks(x[:1501:120])\n",
    "plt.title('0 - 150 horas ', fontdict={'size':20})\n",
    "plt.ylabel('Autocovariância (m²)', fontdict={'size':15})\n",
    "plt.xlabel('Lag', fontdict={'size':15})\n",
    "plt.show()"
   ]
  },
  {
   "cell_type": "markdown",
   "metadata": {},
   "source": [
    "Considerando que a autocovariância é a depêndencia de dois elementos de uma mesma série em instantes distintos, quando o dado encontra-se no lag 0, isso significa que o dado esta sendo comparado com ele próprio, ou seja, o seu valor será máximo no instante 0. Conforme passam as horas, a interferência nos sinais posteriores fica cada vez menor devido ao afastamento gradual da medição atual."
   ]
  },
  {
   "cell_type": "markdown",
   "metadata": {},
   "source": [
    "### Exercício 2"
   ]
  },
  {
   "cell_type": "code",
   "execution_count": null,
   "metadata": {},
   "outputs": [],
   "source": [
    "# Tempo de decorrelação\n",
    "i_time_dec = 0  # índice de tempo de decorrelação\n",
    "for valor in range(0, n):\n",
    "    if(a_cov[valor] <= 0):\n",
    "        i_time_dec = valor\n",
    "        break"
   ]
  },
  {
   "cell_type": "code",
   "execution_count": null,
   "metadata": {},
   "outputs": [],
   "source": [
    "# Plot autocovariância e tempo de decorrelação\n",
    "plt.figure(figsize=(10,5))\n",
    "plt.plot(x[:241], a_cov[:241], color='red')\n",
    "plt.xlim(x[0], x[240])\n",
    "plt.xticks(x[:241:40])\n",
    "plt.ylabel('Autocovariância (m²)', fontdict={'size':15})\n",
    "plt.axhline(0, color='black')\n",
    "plt.axvline(4, color='black')\n",
    "plt.title('Função Autocovariância\\nlag 0 - 24 horas', fontdict={'size':20})\n",
    "plt.xlabel('Lag', fontdict={'size':15})\n",
    "plt.show()"
   ]
  },
  {
   "cell_type": "markdown",
   "metadata": {},
   "source": [
    "O tempo de decorrelação, momento em que a autocovariância ultrapassa pela primeira vez o valor zero, esta estimado em quatro horas.\n",
    "\n",
    "Embora não seja estatisticamente confiável, os valores de autocovariância permanecem consideralvemente altos após o tempo de decorrelação devido oscilarem juntamente com o sinal da maré."
   ]
  },
  {
   "cell_type": "markdown",
   "metadata": {},
   "source": [
    "### Exercício 3"
   ]
  },
  {
   "cell_type": "code",
   "execution_count": null,
   "metadata": {},
   "outputs": [],
   "source": [
    "# Dados aleatórios\n",
    "rand_data = np.random.randn(7440) # dados randômicos \n",
    "a_cov_rand = st.acovf(rand_data, unbiased=True)\n",
    "a_cov_rand = np.delete(a_cov_rand, n-1)"
   ]
  },
  {
   "cell_type": "code",
   "execution_count": null,
   "metadata": {},
   "outputs": [],
   "source": [
    "# Plot da série\n",
    "plt.figure(figsize=(20,10))\n",
    "plt.subplot(211)\n",
    "plt.plot(rand_data, color='black')\n",
    "plt.xlim(0, len(rand_data))\n",
    "plt.title('Série de dados Aleatórios', fontdict={'size':20})\n",
    "plt.show()"
   ]
  },
  {
   "cell_type": "code",
   "execution_count": null,
   "metadata": {},
   "outputs": [],
   "source": [
    "# Plot autocovariância\n",
    "plt.figure(figsize=(20,10))\n",
    "plt.subplot(212)\n",
    "plt.plot(a_cov_rand, color='black')\n",
    "plt.title('Função da Autocovariância dos Dados Aleatórios', fontdict={'size':20})\n",
    "plt.axhline(0, color='black')\n",
    "plt.ylabel('Autocovariância', fontdict={'size':15})\n",
    "plt.xlabel('Lag', fontdict={'size':15})\n",
    "plt.show()"
   ]
  },
  {
   "cell_type": "markdown",
   "metadata": {},
   "source": [
    "Nos dados randômicos a autocovariância cai para zero imediatamente após a primeira medição, pois não é possível prever as próximas medições, uma vez que os valores são aleatórios e não possuem relação entre si. Diferentemente do que ocorre nos valores reais de maré, aonde se observa uma relação entre as medições e, desta forma, observa-se também uma autocovariância bem determinada."
   ]
  },
  {
   "cell_type": "markdown",
   "metadata": {},
   "source": [
    "### Exercício 4"
   ]
  },
  {
   "cell_type": "code",
   "execution_count": null,
   "metadata": {},
   "outputs": [],
   "source": [
    "# Autocorrelação\n",
    "a_cor = a_cov/(np.std(df['verMLLW'])**2)\n",
    "a_cor_rand = a_cov_rand/(np.std(rand_data)**2)"
   ]
  },
  {
   "cell_type": "code",
   "execution_count": null,
   "metadata": {},
   "outputs": [],
   "source": [
    "# Plot autocorrelação dados de maré\n",
    "plt.figure(figsize=(20,10))\n",
    "plt.subplot(211)\n",
    "plt.plot(x, a_cor, color='black')\n",
    "plt.xlim(x[0],x[n-2])\n",
    "plt.title('Função Autocorrelação \\nDados de Maré', fontdict={'size':20})\n",
    "plt.ylabel('Autocorrelação', fontdict={'size':15})\n",
    "plt.show()"
   ]
  },
  {
   "cell_type": "code",
   "execution_count": null,
   "metadata": {},
   "outputs": [],
   "source": [
    "# Plot autocorrelação dados randômicos\n",
    "plt.figure(figsize=(20,10))\n",
    "plt.subplot(211)\n",
    "plt.plot(x, a_cor_rand, color='black')\n",
    "plt.xlim(x[0],x[n-2])\n",
    "plt.title('Função Autocorrelação \\nDados Randômicos', fontdict={'size':20})\n",
    "plt.ylabel('Autocorrelação', fontdict={'size':15})\n",
    "plt.show()"
   ]
  }
 ],
 "metadata": {
  "kernelspec": {
   "display_name": "Python 3",
   "language": "python",
   "name": "python3"
  },
  "language_info": {
   "codemirror_mode": {
    "name": "ipython",
    "version": 3
   },
   "file_extension": ".py",
   "mimetype": "text/x-python",
   "name": "python",
   "nbconvert_exporter": "python",
   "pygments_lexer": "ipython3",
   "version": "3.7.6"
  }
 },
 "nbformat": 4,
 "nbformat_minor": 4
}
